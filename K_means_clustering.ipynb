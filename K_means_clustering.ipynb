{
  "nbformat": 4,
  "nbformat_minor": 0,
  "metadata": {
    "colab": {
      "name": "K-means clustering",
      "provenance": [],
      "collapsed_sections": [],
      "include_colab_link": true
    },
    "kernelspec": {
      "name": "python3",
      "display_name": "Python 3"
    }
  },
  "cells": [
    {
      "cell_type": "markdown",
      "metadata": {
        "id": "view-in-github",
        "colab_type": "text"
      },
      "source": [
        "<a href=\"https://colab.research.google.com/github/godineanvesh/hack/blob/master/K_means_clustering.ipynb\" target=\"_parent\"><img src=\"https://colab.research.google.com/assets/colab-badge.svg\" alt=\"Open In Colab\"/></a>"
      ]
    },
    {
      "cell_type": "code",
      "metadata": {
        "id": "Wdf1-giGyH4E"
      },
      "source": [
        "# statistical learning algorithm\n",
        "# clustering\n",
        "import matplotlib.pyplot as plt\n",
        "import numpy as np\n",
        "from sklearn.datasets.samples_generator import make_blobs\n",
        "from sklearn.cluster import KMeans"
      ],
      "execution_count": null,
      "outputs": []
    },
    {
      "cell_type": "code",
      "metadata": {
        "id": "bRUB6paG1fTI"
      },
      "source": [
        "X,y = make_blobs(n_samples=300, centers = 4, cluster_std=0.6)"
      ],
      "execution_count": null,
      "outputs": []
    },
    {
      "cell_type": "code",
      "metadata": {
        "colab": {
          "base_uri": "https://localhost:8080/"
        },
        "id": "BmRUUp-D9ELD",
        "outputId": "5e7a666b-b796-4383-87b3-823056e1ec09"
      },
      "source": [
        "X"
      ],
      "execution_count": null,
      "outputs": [
        {
          "output_type": "execute_result",
          "data": {
            "text/plain": [
              "array([[  0.75551332,  -2.61235242],\n",
              "       [ -6.18674644,  -8.81969606],\n",
              "       [ -6.04819109,  -8.16520154],\n",
              "       [ -7.97732819, -10.13212948],\n",
              "       [ -6.24075667,  -8.49775903],\n",
              "       [ -4.20105846,  -7.67641461],\n",
              "       [ -6.13460269,  -9.91263873],\n",
              "       [  0.17145623,  -2.87995442],\n",
              "       [ -3.42505813,  -7.37604511],\n",
              "       [ -8.48364254, -10.74858489],\n",
              "       [  0.78722319,  -2.58118851],\n",
              "       [ -6.92006371,  -9.00943881],\n",
              "       [ -8.76126971, -10.20298982],\n",
              "       [ -3.69103847,  -8.50452704],\n",
              "       [ -6.38413031,  -8.67949438],\n",
              "       [ -3.95885157,  -8.0332071 ],\n",
              "       [ -6.75733376,  -9.25104938],\n",
              "       [ -2.97768893,  -7.60216022],\n",
              "       [ -3.33598776,  -7.8351609 ],\n",
              "       [ -9.71863927,  -9.92808738],\n",
              "       [ -6.86161602,  -8.57124113],\n",
              "       [ -6.3524604 ,  -9.05186429],\n",
              "       [ -3.92933852,  -7.07674835],\n",
              "       [ -8.258171  ,  -9.26753011],\n",
              "       [ -5.94268421,  -8.97789442],\n",
              "       [ -2.79358829,  -7.93464139],\n",
              "       [ -4.11346771,  -7.51530222],\n",
              "       [  0.60611674,  -3.31078481],\n",
              "       [ -3.8925745 ,  -7.69640837],\n",
              "       [ -8.67175724, -10.33081071],\n",
              "       [ -3.39780512,  -8.54296116],\n",
              "       [ -8.28056719,  -9.49868392],\n",
              "       [  1.46976169,  -4.21440484],\n",
              "       [  2.71210457,  -1.99541169],\n",
              "       [ -7.81806882, -10.11837108],\n",
              "       [ -3.23210613,  -8.04586046],\n",
              "       [ -6.77774296,  -7.80099393],\n",
              "       [ -4.3445452 ,  -7.62168777],\n",
              "       [ -7.67249667,  -9.90723811],\n",
              "       [  0.54943782,  -2.34641937],\n",
              "       [ -3.86478487,  -8.42894984],\n",
              "       [  0.62196505,  -2.74720126],\n",
              "       [  0.5286911 ,  -2.84381105],\n",
              "       [ -8.49961611,  -8.47357564],\n",
              "       [ -6.82995534,  -8.86355681],\n",
              "       [ -8.8646452 , -10.68138762],\n",
              "       [ -7.65417865, -10.05454598],\n",
              "       [ -4.34634118,  -7.05947245],\n",
              "       [ -4.02136188,  -7.15312948],\n",
              "       [  1.45888164,  -3.67352323],\n",
              "       [  1.6993906 ,  -2.81097662],\n",
              "       [  1.06445927,  -4.39697538],\n",
              "       [ -3.14082186,  -7.43830304],\n",
              "       [  1.01005888,  -3.29927543],\n",
              "       [ -5.45872319,  -7.96069219],\n",
              "       [ -9.82599402, -10.3316838 ],\n",
              "       [ -6.07479248,  -7.99609913],\n",
              "       [ -8.53080115, -10.00013565],\n",
              "       [ -6.04808115,  -9.5208368 ],\n",
              "       [ -7.2413561 ,  -8.69982148],\n",
              "       [ -6.74790878,  -8.57487183],\n",
              "       [ -3.63150622,  -7.54222728],\n",
              "       [ -3.05676524,  -7.73567505],\n",
              "       [ -6.56837136,  -8.53038541],\n",
              "       [  1.38067642,  -2.58380654],\n",
              "       [  0.82506084,  -3.72226824],\n",
              "       [  1.15398909,  -3.57662741],\n",
              "       [ -8.93682827,  -9.80920309],\n",
              "       [  0.36898264,  -3.54515766],\n",
              "       [  1.26846953,  -3.5396511 ],\n",
              "       [ -3.18055872,  -6.86075569],\n",
              "       [  0.68209622,  -3.57709054],\n",
              "       [ -7.95263052, -10.456899  ],\n",
              "       [ -4.02111909,  -8.29539349],\n",
              "       [ -4.53995886,  -7.44577942],\n",
              "       [ -3.45969262,  -7.67378221],\n",
              "       [ -9.44308589, -10.44021885],\n",
              "       [ -8.71569054, -10.44402849],\n",
              "       [ -3.73710336,  -6.91844818],\n",
              "       [ -8.000023  ,  -9.95391266],\n",
              "       [ -6.79948125,  -7.98352343],\n",
              "       [ -8.23623578,  -9.97651448],\n",
              "       [ -3.28267931,  -7.18059595],\n",
              "       [ -4.15319439,  -7.57387916],\n",
              "       [ -8.2241706 ,  -9.35109783],\n",
              "       [  0.05983571,  -2.92424943],\n",
              "       [ -2.88707651,  -7.86096107],\n",
              "       [ -4.08246761,  -7.95188228],\n",
              "       [  1.30563316,  -4.46316714],\n",
              "       [  1.46848936,  -2.4221745 ],\n",
              "       [ -6.50147848,  -8.34844187],\n",
              "       [ -4.13153824,  -6.22273823],\n",
              "       [ -3.87900724,  -7.46211482],\n",
              "       [ -6.00236043,  -7.73187956],\n",
              "       [ -7.62560037,  -7.76833847],\n",
              "       [ -4.24754194,  -7.86790967],\n",
              "       [ -8.38613526,  -9.68787109],\n",
              "       [ -5.87701227,  -8.18793137],\n",
              "       [ -7.22858908,  -8.9098963 ],\n",
              "       [ -0.02161246,  -2.80258635],\n",
              "       [ -5.68834008,  -8.46020802],\n",
              "       [ -7.64284892,  -7.71270654],\n",
              "       [ -2.88465931,  -7.74598762],\n",
              "       [ -6.39799511,  -9.24168232],\n",
              "       [  0.84193353,  -3.25193784],\n",
              "       [  1.45093484,  -1.72104462],\n",
              "       [ -6.7478721 ,  -8.51585054],\n",
              "       [ -6.12374312,  -8.64999993],\n",
              "       [ -7.50822186,  -8.06460663],\n",
              "       [  0.87562349,  -2.61921638],\n",
              "       [ -6.94583314,  -9.03182409],\n",
              "       [  1.58862576,  -2.44894004],\n",
              "       [ -6.49549399,  -7.9797363 ],\n",
              "       [ -8.21655533,  -9.89193723],\n",
              "       [ -3.93604101,  -7.22248946],\n",
              "       [ -3.95926722,  -7.53266627],\n",
              "       [ -8.61634821, -10.2282257 ],\n",
              "       [ -3.48637095,  -8.61519777],\n",
              "       [  1.46865616,  -4.30933809],\n",
              "       [  0.94842236,  -4.64728851],\n",
              "       [  0.60538616,  -3.55217856],\n",
              "       [ -4.03892412,  -7.6982839 ],\n",
              "       [ -4.31119801,  -6.94274048],\n",
              "       [ -0.04515741,  -3.2017637 ],\n",
              "       [ -6.64614455,  -8.44763071],\n",
              "       [ -6.01229966,  -7.98072176],\n",
              "       [  0.80186769,  -2.01886224],\n",
              "       [ -4.0617951 ,  -7.70637321],\n",
              "       [ -8.34957371,  -9.70134068],\n",
              "       [ -3.89701695,  -6.48268199],\n",
              "       [  0.77584969,  -3.73388499],\n",
              "       [ -2.72588335,  -7.3921041 ],\n",
              "       [ -7.64259876,  -9.06882067],\n",
              "       [  1.72098592,  -4.15918143],\n",
              "       [  0.65050714,  -3.39440907],\n",
              "       [ -4.11238467,  -8.05534739],\n",
              "       [ -5.81435388,  -8.49300758],\n",
              "       [ -9.00503082, -10.44757701],\n",
              "       [  0.67880088,  -3.7212537 ],\n",
              "       [ -6.70067953,  -8.47736492],\n",
              "       [  1.64163002,  -2.65973168],\n",
              "       [  0.47862766,  -2.6965122 ],\n",
              "       [ -3.78419422,  -7.06652033],\n",
              "       [ -8.24848493, -10.22774573],\n",
              "       [ -2.60519643,  -6.72149709],\n",
              "       [ -4.18368981,  -8.59951568],\n",
              "       [  0.28977349,  -3.97626875],\n",
              "       [ -8.2641267 , -10.22229439],\n",
              "       [ -8.11182726,  -9.77881157],\n",
              "       [ -8.27726927, -10.14929734],\n",
              "       [ -6.54628395,  -7.46781786],\n",
              "       [ -6.60599038,  -8.64053341],\n",
              "       [ -7.40492178,  -8.76543478],\n",
              "       [ -4.16366049,  -7.75494759],\n",
              "       [ -7.45497643,  -8.32993572],\n",
              "       [ -4.81048507,  -6.94419552],\n",
              "       [ -8.44466178,  -9.75235237],\n",
              "       [ -5.17902142,  -7.99405762],\n",
              "       [ -8.3615271 ,  -9.61950134],\n",
              "       [ -6.73515217,  -7.08328288],\n",
              "       [ -6.62727847,  -7.97566913],\n",
              "       [ -6.26445243,  -7.77931709],\n",
              "       [  1.77539876,  -3.74925785],\n",
              "       [ -9.19186919,  -8.43435997],\n",
              "       [  0.61164814,  -3.23430798],\n",
              "       [  1.32033676,  -2.8488985 ],\n",
              "       [ -5.95128457,  -8.92637195],\n",
              "       [ -7.11714366,  -8.82356779],\n",
              "       [  1.61047382,  -3.07156326],\n",
              "       [ -6.56869527,  -8.53184852],\n",
              "       [ -3.66758721,  -8.36073911],\n",
              "       [ -9.07959011, -10.90722428],\n",
              "       [ -7.92843057,  -9.63714444],\n",
              "       [ -6.39448126,  -8.4400849 ],\n",
              "       [ -8.74755249, -10.05321246],\n",
              "       [ -6.99268858,  -8.72113151],\n",
              "       [ -8.04667072, -11.07138236],\n",
              "       [ -8.30727375,  -9.76595893],\n",
              "       [  1.24206405,  -2.85544646],\n",
              "       [  0.34282174,  -2.94216967],\n",
              "       [ -0.71375276,  -3.34846607],\n",
              "       [ -3.5590259 ,  -7.80014515],\n",
              "       [ -8.08705275, -10.43182193],\n",
              "       [  0.8117288 ,  -3.76027234],\n",
              "       [ -8.15527217, -11.02656961],\n",
              "       [  1.21493357,  -3.34927307],\n",
              "       [ -8.25469077,  -9.82998687],\n",
              "       [ -8.81563164,  -9.72501545],\n",
              "       [  1.61512111,  -4.41187397],\n",
              "       [  0.47168755,  -2.83965964],\n",
              "       [ -7.08871164,  -9.0858266 ],\n",
              "       [ -4.41709174,  -6.49743355],\n",
              "       [ -3.77374136,  -8.47663862],\n",
              "       [ -8.08039943,  -9.68701776],\n",
              "       [ -3.58476235,  -7.53950141],\n",
              "       [ -8.67274332,  -9.21013115],\n",
              "       [ -8.00531688, -10.00715667],\n",
              "       [ -8.11270329,  -9.6719235 ],\n",
              "       [ -6.79038443,  -7.56715227],\n",
              "       [ -8.6137029 ,  -9.78820221],\n",
              "       [  1.06297308,  -3.4585423 ],\n",
              "       [  0.80849028,  -3.85641711],\n",
              "       [ -7.97301546,  -9.3653824 ],\n",
              "       [ -4.11880942,  -7.3549523 ],\n",
              "       [ -9.4837289 , -10.12234943],\n",
              "       [ -3.64968635,  -8.5287399 ],\n",
              "       [ -7.95407561, -10.47896993],\n",
              "       [  1.41036526,  -3.82658953],\n",
              "       [ -7.61653682,  -8.44139696],\n",
              "       [ -9.45648697, -10.41806162],\n",
              "       [ -7.60619844, -10.57074788],\n",
              "       [ -7.81630833,  -9.96864059],\n",
              "       [ -0.35707317,  -4.12619476],\n",
              "       [ -3.74070177,  -8.17946341],\n",
              "       [ -7.31717325,  -9.18694217],\n",
              "       [ -6.1955113 ,  -9.37785288],\n",
              "       [ -3.21991466,  -8.12130945],\n",
              "       [ -0.05212621,  -3.79033712],\n",
              "       [ -3.59659663,  -7.60945687],\n",
              "       [ -8.02994874,  -9.02944241],\n",
              "       [ -3.72050262,  -7.30194041],\n",
              "       [ -0.28052654,  -1.85650357],\n",
              "       [ -7.15274564,  -8.74814219],\n",
              "       [ -2.94318746,  -7.48115523],\n",
              "       [ -6.16952219,  -9.00708737],\n",
              "       [ -4.59426892,  -8.27710952],\n",
              "       [ -3.56445587,  -6.41523421],\n",
              "       [ -6.66901401,  -7.93237174],\n",
              "       [  1.38808161,  -3.90682446],\n",
              "       [ -6.10439811,  -9.20437741],\n",
              "       [ -3.20647473,  -7.40182321],\n",
              "       [ -3.21882315,  -6.95450377],\n",
              "       [ -4.60129317,  -8.00778118],\n",
              "       [ -3.56470856,  -7.70112411],\n",
              "       [ -8.74749924,  -9.78272486],\n",
              "       [ -2.79514511,  -7.95472621],\n",
              "       [ -5.88192887,  -8.04446778],\n",
              "       [  1.48833016,  -2.88661307],\n",
              "       [ -3.16187407,  -7.76139303],\n",
              "       [ -7.91428999,  -9.19825577],\n",
              "       [ -5.53009046,  -7.97623402],\n",
              "       [ -6.31323378,  -7.36143611],\n",
              "       [ -4.62572127,  -7.03555536],\n",
              "       [ -2.28896653,  -7.76163666],\n",
              "       [ -7.74233232,  -9.62521597],\n",
              "       [ -9.67461254, -10.18788418],\n",
              "       [  0.63176222,  -4.69188109],\n",
              "       [ -6.36830244,  -8.56269287],\n",
              "       [ -3.90151408,  -7.2368334 ],\n",
              "       [  0.38780421,  -3.38545526],\n",
              "       [  1.40710079,  -3.81905841],\n",
              "       [ -7.99784422,  -9.9534112 ],\n",
              "       [  0.46393463,  -3.27281208],\n",
              "       [  0.94002021,  -2.76380828],\n",
              "       [ -8.08592749,  -9.96835156],\n",
              "       [  1.01764791,  -4.11846864],\n",
              "       [ -6.92504155,  -9.76541079],\n",
              "       [ -8.94202447, -10.83930044],\n",
              "       [  1.24029706,  -3.23401662],\n",
              "       [ -0.04380135,  -3.70135881],\n",
              "       [ -7.86821177,  -9.86170967],\n",
              "       [ -6.33567759, -10.00472813],\n",
              "       [  0.74608876,  -3.87572518],\n",
              "       [ -3.83901267,  -7.29396512],\n",
              "       [ -2.65288386,  -7.10367041],\n",
              "       [ -7.0998114 ,  -9.27913655],\n",
              "       [ -6.49124318,  -8.71242969],\n",
              "       [ -6.48209902,  -8.23128114],\n",
              "       [ -6.79651053,  -8.14047315],\n",
              "       [ -7.26366374,  -8.97667294],\n",
              "       [ -3.71243049,  -6.21756641],\n",
              "       [ -7.02093952,  -9.25466626],\n",
              "       [ -3.31591037,  -8.17072205],\n",
              "       [ -9.39932192,  -9.56827622],\n",
              "       [ -7.73904778,  -9.93972296],\n",
              "       [ -4.07530915,  -7.17260192],\n",
              "       [  1.61121625,  -2.3548335 ],\n",
              "       [ -8.78142612,  -9.55119915],\n",
              "       [  1.03147915,  -4.44999198],\n",
              "       [ -6.41078735,  -9.69158863],\n",
              "       [ -8.70523044,  -9.72498637],\n",
              "       [ -8.02545878,  -9.64313602],\n",
              "       [ -8.03694736,  -9.88315437],\n",
              "       [ -6.94008479,  -8.42371378],\n",
              "       [ -8.85150897,  -9.78108834],\n",
              "       [  0.75739105,  -3.37326275],\n",
              "       [ -9.34035593,  -9.74734373],\n",
              "       [  2.42357373,  -3.75577468],\n",
              "       [ -3.80749066,  -6.95002024],\n",
              "       [ -7.87823816,  -9.28569519],\n",
              "       [ -7.81046578,  -9.63099693],\n",
              "       [ -6.57600116,  -8.69548124],\n",
              "       [  0.94097976,  -3.8102817 ],\n",
              "       [ -4.17615004,  -6.52636731],\n",
              "       [ -8.74839383,  -9.89938421],\n",
              "       [  0.56917028,  -3.34986051],\n",
              "       [  1.37679712,  -3.03115913],\n",
              "       [ -7.07787756,  -9.08197957],\n",
              "       [ -8.51818275, -10.63720559],\n",
              "       [  0.80188463,  -3.11148129]])"
            ]
          },
          "metadata": {
            "tags": []
          },
          "execution_count": 14
        }
      ]
    },
    {
      "cell_type": "code",
      "metadata": {
        "colab": {
          "base_uri": "https://localhost:8080/"
        },
        "id": "xb3FXweJ89MJ",
        "outputId": "67ced2c6-0c67-4ebe-fea4-bad5bc7c26db"
      },
      "source": [
        "y"
      ],
      "execution_count": null,
      "outputs": [
        {
          "output_type": "execute_result",
          "data": {
            "text/plain": [
              "array([0, 3, 3, 2, 3, 1, 3, 0, 1, 2, 0, 3, 2, 1, 3, 1, 3, 1, 1, 2, 3, 3,\n",
              "       1, 2, 3, 1, 1, 0, 1, 2, 1, 2, 0, 0, 2, 1, 3, 1, 2, 0, 1, 0, 0, 2,\n",
              "       3, 2, 2, 1, 1, 0, 0, 0, 1, 0, 3, 2, 3, 2, 3, 3, 3, 1, 1, 3, 0, 0,\n",
              "       0, 2, 0, 0, 1, 0, 2, 1, 1, 1, 2, 2, 1, 2, 3, 2, 1, 1, 2, 0, 1, 1,\n",
              "       0, 0, 3, 1, 1, 3, 3, 1, 2, 3, 3, 0, 3, 3, 1, 3, 0, 0, 3, 3, 3, 0,\n",
              "       3, 0, 3, 2, 1, 1, 2, 1, 0, 0, 0, 1, 1, 0, 3, 3, 0, 1, 2, 1, 0, 1,\n",
              "       2, 0, 0, 1, 3, 2, 0, 3, 0, 0, 1, 2, 1, 1, 0, 2, 2, 2, 3, 3, 3, 1,\n",
              "       3, 1, 2, 3, 2, 3, 3, 3, 0, 2, 0, 0, 3, 3, 0, 3, 1, 2, 2, 3, 2, 3,\n",
              "       2, 2, 0, 0, 0, 1, 2, 0, 2, 0, 2, 2, 0, 0, 3, 1, 1, 2, 1, 2, 2, 2,\n",
              "       3, 2, 0, 0, 2, 1, 2, 1, 2, 0, 3, 2, 2, 2, 0, 1, 3, 3, 1, 0, 1, 2,\n",
              "       1, 0, 3, 1, 3, 1, 1, 3, 0, 3, 1, 1, 3, 1, 2, 1, 3, 0, 1, 2, 3, 3,\n",
              "       1, 1, 2, 2, 0, 3, 1, 0, 0, 2, 0, 0, 2, 0, 2, 2, 0, 0, 2, 3, 0, 1,\n",
              "       1, 3, 3, 3, 3, 3, 1, 3, 1, 2, 3, 1, 0, 2, 0, 3, 2, 2, 2, 3, 2, 0,\n",
              "       2, 0, 1, 2, 2, 3, 0, 1, 2, 0, 0, 3, 2, 0])"
            ]
          },
          "metadata": {
            "tags": []
          },
          "execution_count": 11
        }
      ]
    },
    {
      "cell_type": "code",
      "metadata": {
        "colab": {
          "base_uri": "https://localhost:8080/",
          "height": 282
        },
        "id": "uAxhMsI579P2",
        "outputId": "d92ca1d6-67a8-48d3-fb64-d782f13325e8"
      },
      "source": [
        "plt.scatter(X[:,0],X[:,1], s=50)"
      ],
      "execution_count": null,
      "outputs": [
        {
          "output_type": "execute_result",
          "data": {
            "text/plain": [
              "<matplotlib.collections.PathCollection at 0x7f371eed3748>"
            ]
          },
          "metadata": {
            "tags": []
          },
          "execution_count": 8
        },
        {
          "output_type": "display_data",
          "data": {
            "image/png": "[encoded data removed]",
            "text/plain": [
              "<Figure size 432x288 with 1 Axes>"
            ]
          },
          "metadata": {
            "tags": [],
            "needs_background": "light"
          }
        }
      ]
    },
    {
      "cell_type": "code",
      "metadata": {
        "id": "F-312_o_7-B5"
      },
      "source": [
        "kmeans = KMeans(n_clusters=4)"
      ],
      "execution_count": null,
      "outputs": []
    },
    {
      "cell_type": "code",
      "metadata": {
        "colab": {
          "base_uri": "https://localhost:8080/"
        },
        "id": "UcP4IQXy8vKS",
        "outputId": "4fcb5cf5-0ad5-4625-8e68-e50de373c92b"
      },
      "source": [
        "kmeans.fit(X)"
      ],
      "execution_count": null,
      "outputs": [
        {
          "output_type": "execute_result",
          "data": {
            "text/plain": [
              "KMeans(algorithm='auto', copy_x=True, init='k-means++', max_iter=300,\n",
              "       n_clusters=4, n_init=10, n_jobs=None, precompute_distances='auto',\n",
              "       random_state=None, tol=0.0001, verbose=0)"
            ]
          },
          "metadata": {
            "tags": []
          },
          "execution_count": 10
        }
      ]
    },
    {
      "cell_type": "code",
      "metadata": {
        "id": "J8861gb180F6"
      },
      "source": [
        "y_pred = kmeans.predict(X)"
      ],
      "execution_count": null,
      "outputs": []
    },
    {
      "cell_type": "code",
      "metadata": {
        "colab": {
          "base_uri": "https://localhost:8080/",
          "height": 282
        },
        "id": "8-ZDd5Hp--rd",
        "outputId": "7b19779b-5b07-4a17-af79-8539b8ff1cb7"
      },
      "source": [
        "plt.scatter(X[:,0],X[:,1])\n",
        "plt.scatter(X[:,0],X[:,1], c = y_pred)\n"
      ],
      "execution_count": null,
      "outputs": [
        {
          "output_type": "execute_result",
          "data": {
            "text/plain": [
              "<matplotlib.collections.PathCollection at 0x7f3716db0fd0>"
            ]
          },
          "metadata": {
            "tags": []
          },
          "execution_count": 18
        },
        {
          "output_type": "display_data",
          "data": {
            "image/png": "[encoded data removed]",
            "text/plain": [
              "<Figure size 432x288 with 1 Axes>"
            ]
          },
          "metadata": {
            "tags": [],
            "needs_background": "light"
          }
        }
      ]
    },
    {
      "cell_type": "code",
      "metadata": {
        "colab": {
          "base_uri": "https://localhost:8080/"
        },
        "id": "C03r_KKK_Di-",
        "outputId": "40e3be0f-c5fa-4d17-ebcd-0c2de55a6fe1"
      },
      "source": [
        "y_pred"
      ],
      "execution_count": null,
      "outputs": [
        {
          "output_type": "execute_result",
          "data": {
            "text/plain": [
              "array([0, 3, 3, 1, 3, 2, 3, 0, 2, 1, 0, 3, 1, 2, 3, 2, 3, 2, 2, 1, 3, 3,\n",
              "       2, 1, 3, 2, 2, 0, 2, 1, 2, 1, 0, 0, 1, 2, 3, 2, 1, 0, 2, 0, 0, 1,\n",
              "       3, 1, 1, 2, 2, 0, 0, 0, 2, 0, 3, 1, 3, 1, 3, 3, 3, 2, 2, 3, 0, 0,\n",
              "       0, 1, 0, 0, 2, 0, 1, 2, 2, 2, 1, 1, 2, 1, 3, 1, 2, 2, 1, 0, 2, 2,\n",
              "       0, 0, 3, 2, 2, 3, 3, 2, 1, 3, 3, 0, 3, 3, 2, 3, 0, 0, 3, 3, 3, 0,\n",
              "       3, 0, 3, 1, 2, 2, 1, 2, 0, 0, 0, 2, 2, 0, 3, 3, 0, 2, 1, 2, 0, 2,\n",
              "       1, 0, 0, 2, 3, 1, 0, 3, 0, 0, 2, 1, 2, 2, 0, 1, 1, 1, 3, 3, 3, 2,\n",
              "       3, 2, 1, 3, 1, 3, 3, 3, 0, 1, 0, 0, 3, 3, 0, 3, 2, 1, 1, 3, 1, 3,\n",
              "       1, 1, 0, 0, 0, 2, 1, 0, 1, 0, 1, 1, 0, 0, 3, 2, 2, 1, 2, 1, 1, 1,\n",
              "       3, 1, 0, 0, 1, 2, 1, 2, 1, 0, 3, 1, 1, 1, 0, 2, 3, 3, 2, 0, 2, 1,\n",
              "       2, 0, 3, 2, 3, 2, 2, 3, 0, 3, 2, 2, 2, 2, 1, 2, 3, 0, 2, 1, 3, 3,\n",
              "       2, 2, 1, 1, 0, 3, 2, 0, 0, 1, 0, 0, 1, 0, 3, 1, 0, 0, 1, 3, 0, 2,\n",
              "       2, 3, 3, 3, 3, 3, 2, 3, 2, 1, 1, 2, 0, 1, 0, 3, 1, 1, 1, 3, 1, 0,\n",
              "       1, 0, 2, 1, 1, 3, 0, 2, 1, 0, 0, 3, 1, 0], dtype=int32)"
            ]
          },
          "metadata": {
            "tags": []
          },
          "execution_count": 20
        }
      ]
    },
    {
      "cell_type": "code",
      "metadata": {
        "colab": {
          "base_uri": "https://localhost:8080/"
        },
        "id": "abL6tS-D_bOK",
        "outputId": "03708dea-98a6-487d-c0fd-aecc3091ac31"
      },
      "source": [
        "y"
      ],
      "execution_count": null,
      "outputs": [
        {
          "output_type": "execute_result",
          "data": {
            "text/plain": [
              "array([0, 3, 3, 2, 3, 1, 3, 0, 1, 2, 0, 3, 2, 1, 3, 1, 3, 1, 1, 2, 3, 3,\n",
              "       1, 2, 3, 1, 1, 0, 1, 2, 1, 2, 0, 0, 2, 1, 3, 1, 2, 0, 1, 0, 0, 2,\n",
              "       3, 2, 2, 1, 1, 0, 0, 0, 1, 0, 3, 2, 3, 2, 3, 3, 3, 1, 1, 3, 0, 0,\n",
              "       0, 2, 0, 0, 1, 0, 2, 1, 1, 1, 2, 2, 1, 2, 3, 2, 1, 1, 2, 0, 1, 1,\n",
              "       0, 0, 3, 1, 1, 3, 3, 1, 2, 3, 3, 0, 3, 3, 1, 3, 0, 0, 3, 3, 3, 0,\n",
              "       3, 0, 3, 2, 1, 1, 2, 1, 0, 0, 0, 1, 1, 0, 3, 3, 0, 1, 2, 1, 0, 1,\n",
              "       2, 0, 0, 1, 3, 2, 0, 3, 0, 0, 1, 2, 1, 1, 0, 2, 2, 2, 3, 3, 3, 1,\n",
              "       3, 1, 2, 3, 2, 3, 3, 3, 0, 2, 0, 0, 3, 3, 0, 3, 1, 2, 2, 3, 2, 3,\n",
              "       2, 2, 0, 0, 0, 1, 2, 0, 2, 0, 2, 2, 0, 0, 3, 1, 1, 2, 1, 2, 2, 2,\n",
              "       3, 2, 0, 0, 2, 1, 2, 1, 2, 0, 3, 2, 2, 2, 0, 1, 3, 3, 1, 0, 1, 2,\n",
              "       1, 0, 3, 1, 3, 1, 1, 3, 0, 3, 1, 1, 3, 1, 2, 1, 3, 0, 1, 2, 3, 3,\n",
              "       1, 1, 2, 2, 0, 3, 1, 0, 0, 2, 0, 0, 2, 0, 2, 2, 0, 0, 2, 3, 0, 1,\n",
              "       1, 3, 3, 3, 3, 3, 1, 3, 1, 2, 3, 1, 0, 2, 0, 3, 2, 2, 2, 3, 2, 0,\n",
              "       2, 0, 1, 2, 2, 3, 0, 1, 2, 0, 0, 3, 2, 0])"
            ]
          },
          "metadata": {
            "tags": []
          },
          "execution_count": 21
        }
      ]
    },
    {
      "cell_type": "code",
      "metadata": {
        "id": "Je3kffxU_zd6"
      },
      "source": [
        "import pandas as pd"
      ],
      "execution_count": null,
      "outputs": []
    },
    {
      "cell_type": "code",
      "metadata": {
        "id": "eX4SnIvbAHuw"
      },
      "source": [
        "catalog = pd.read_excel(\"https://github.com/SavioSal/datasets/raw/master/Catalog%20Marketing.xlsx\")"
      ],
      "execution_count": null,
      "outputs": []
    },
    {
      "cell_type": "code",
      "metadata": {
        "colab": {
          "base_uri": "https://localhost:8080/",
          "height": 325
        },
        "id": "prYO_LlNAI3B",
        "outputId": "27534f9b-86cb-4c90-8fd8-48c88281ddcd"
      },
      "source": [
        "catalog.head()"
      ],
      "execution_count": null,
      "outputs": [
        {
          "output_type": "execute_result",
          "data": {
            "text/html": [
              "<div>\n",
              "<style scoped>\n",
              "    .dataframe tbody tr th:only-of-type {\n",
              "        vertical-align: middle;\n",
              "    }\n",
              "\n",
              "    .dataframe tbody tr th {\n",
              "        vertical-align: top;\n",
              "    }\n",
              "\n",
              "    .dataframe thead th {\n",
              "        text-align: right;\n",
              "    }\n",
              "</style>\n",
              "<table border=\"1\" class=\"dataframe\">\n",
              "  <thead>\n",
              "    <tr style=\"text-align: right;\">\n",
              "      <th></th>\n",
              "      <th>Person</th>\n",
              "      <th>Age</th>\n",
              "      <th>Gender</th>\n",
              "      <th>Own Home</th>\n",
              "      <th>Married</th>\n",
              "      <th>Close</th>\n",
              "      <th>Salary</th>\n",
              "      <th>Children</th>\n",
              "      <th>History</th>\n",
              "      <th>Catalogs</th>\n",
              "      <th>Region</th>\n",
              "      <th>State</th>\n",
              "      <th>City</th>\n",
              "      <th>First Purchase</th>\n",
              "      <th>Amount Spent</th>\n",
              "    </tr>\n",
              "  </thead>\n",
              "  <tbody>\n",
              "    <tr>\n",
              "      <th>0</th>\n",
              "      <td>1</td>\n",
              "      <td>1</td>\n",
              "      <td>0</td>\n",
              "      <td>0</td>\n",
              "      <td>0</td>\n",
              "      <td>1</td>\n",
              "      <td>16400</td>\n",
              "      <td>1</td>\n",
              "      <td>1.0</td>\n",
              "      <td>12</td>\n",
              "      <td>South</td>\n",
              "      <td>Florida</td>\n",
              "      <td>Orlando</td>\n",
              "      <td>2014-10-23</td>\n",
              "      <td>217.691</td>\n",
              "    </tr>\n",
              "    <tr>\n",
              "      <th>1</th>\n",
              "      <td>2</td>\n",
              "      <td>2</td>\n",
              "      <td>0</td>\n",
              "      <td>1</td>\n",
              "      <td>1</td>\n",
              "      <td>0</td>\n",
              "      <td>108100</td>\n",
              "      <td>3</td>\n",
              "      <td>3.0</td>\n",
              "      <td>18</td>\n",
              "      <td>Midwest</td>\n",
              "      <td>Illinois</td>\n",
              "      <td>Chicago</td>\n",
              "      <td>2012-05-25</td>\n",
              "      <td>2632.462</td>\n",
              "    </tr>\n",
              "    <tr>\n",
              "      <th>2</th>\n",
              "      <td>3</td>\n",
              "      <td>2</td>\n",
              "      <td>1</td>\n",
              "      <td>1</td>\n",
              "      <td>1</td>\n",
              "      <td>1</td>\n",
              "      <td>97300</td>\n",
              "      <td>1</td>\n",
              "      <td>NaN</td>\n",
              "      <td>12</td>\n",
              "      <td>South</td>\n",
              "      <td>Florida</td>\n",
              "      <td>Orlando</td>\n",
              "      <td>2018-08-18</td>\n",
              "      <td>3047.563</td>\n",
              "    </tr>\n",
              "    <tr>\n",
              "      <th>3</th>\n",
              "      <td>4</td>\n",
              "      <td>3</td>\n",
              "      <td>1</td>\n",
              "      <td>1</td>\n",
              "      <td>1</td>\n",
              "      <td>1</td>\n",
              "      <td>26800</td>\n",
              "      <td>0</td>\n",
              "      <td>1.0</td>\n",
              "      <td>12</td>\n",
              "      <td>East</td>\n",
              "      <td>Ohio</td>\n",
              "      <td>Cleveland</td>\n",
              "      <td>2015-12-26</td>\n",
              "      <td>434.606</td>\n",
              "    </tr>\n",
              "    <tr>\n",
              "      <th>4</th>\n",
              "      <td>5</td>\n",
              "      <td>1</td>\n",
              "      <td>1</td>\n",
              "      <td>0</td>\n",
              "      <td>0</td>\n",
              "      <td>1</td>\n",
              "      <td>11200</td>\n",
              "      <td>0</td>\n",
              "      <td>NaN</td>\n",
              "      <td>6</td>\n",
              "      <td>Midwest</td>\n",
              "      <td>Illinois</td>\n",
              "      <td>Chicago</td>\n",
              "      <td>2018-08-04</td>\n",
              "      <td>105.624</td>\n",
              "    </tr>\n",
              "  </tbody>\n",
              "</table>\n",
              "</div>"
            ],
            "text/plain": [
              "   Person  Age  Gender  ...       City  First Purchase  Amount Spent\n",
              "0       1    1       0  ...    Orlando      2014-10-23       217.691\n",
              "1       2    2       0  ...    Chicago      2012-05-25      2632.462\n",
              "2       3    2       1  ...    Orlando      2018-08-18      3047.563\n",
              "3       4    3       1  ...  Cleveland      2015-12-26       434.606\n",
              "4       5    1       1  ...    Chicago      2018-08-04       105.624\n",
              "\n",
              "[5 rows x 15 columns]"
            ]
          },
          "metadata": {
            "tags": []
          },
          "execution_count": 24
        }
      ]
    },
    {
      "cell_type": "code",
      "metadata": {
        "colab": {
          "base_uri": "https://localhost:8080/",
          "height": 296
        },
        "id": "b7au4cR5AMUK",
        "outputId": "25f9b7bc-7a6d-41a7-ed73-e2e8761b3fb4"
      },
      "source": [
        "catalog.plot(\"Salary\", \"Amount Spent\", kind = 'scatter')"
      ],
      "execution_count": null,
      "outputs": [
        {
          "output_type": "execute_result",
          "data": {
            "text/plain": [
              "<matplotlib.axes._subplots.AxesSubplot at 0x7f37165fd7b8>"
            ]
          },
          "metadata": {
            "tags": []
          },
          "execution_count": 25
        },
        {
          "output_type": "display_data",
          "data": {
            "image/png": "[encoded data removed]",
            "text/plain": [
              "<Figure size 432x288 with 1 Axes>"
            ]
          },
          "metadata": {
            "tags": [],
            "needs_background": "light"
          }
        }
      ]
    },
    {
      "cell_type": "code",
      "metadata": {
        "id": "6HN4ByJgAfqJ"
      },
      "source": [
        "km = KMeans(n_clusters=10)"
      ],
      "execution_count": null,
      "outputs": []
    },
    {
      "cell_type": "code",
      "metadata": {
        "id": "FwOWXIHnAp2S"
      },
      "source": [
        "kmodel = km.fit(catalog[['Salary','Amount Spent']])"
      ],
      "execution_count": null,
      "outputs": []
    },
    {
      "cell_type": "code",
      "metadata": {
        "id": "6AYtEShPAyfJ"
      },
      "source": [
        "y_pred = kmodel.predict(catalog[['Salary','Amount Spent']])"
      ],
      "execution_count": null,
      "outputs": []
    },
    {
      "cell_type": "code",
      "metadata": {
        "colab": {
          "base_uri": "https://localhost:8080/",
          "height": 282
        },
        "id": "-_-UFmgWA6AD",
        "outputId": "28faf32f-1819-4d6f-b2c8-92f1736d5251"
      },
      "source": [
        "plt.scatter(catalog[['Salary']],catalog[['Amount Spent']])"
      ],
      "execution_count": null,
      "outputs": [
        {
          "output_type": "execute_result",
          "data": {
            "text/plain": [
              "<matplotlib.collections.PathCollection at 0x7f371654bcc0>"
            ]
          },
          "metadata": {
            "tags": []
          },
          "execution_count": 29
        },
        {
          "output_type": "display_data",
          "data": {
            "image/png": "[encoded data removed]",
            "text/plain": [
              "<Figure size 432x288 with 1 Axes>"
            ]
          },
          "metadata": {
            "tags": [],
            "needs_background": "light"
          }
        }
      ]
    },
    {
      "cell_type": "code",
      "metadata": {
        "colab": {
          "base_uri": "https://localhost:8080/",
          "height": 282
        },
        "id": "3RdPIv6ZBB-J",
        "outputId": "29fe7bdb-584a-486e-ef48-c7d3e364ba66"
      },
      "source": [
        "plt.scatter(catalog[['Salary']],catalog[['Amount Spent']], c=y_pred)"
      ],
      "execution_count": null,
      "outputs": [
        {
          "output_type": "execute_result",
          "data": {
            "text/plain": [
              "<matplotlib.collections.PathCollection at 0x7f37164fc2b0>"
            ]
          },
          "metadata": {
            "tags": []
          },
          "execution_count": 30
        },
        {
          "output_type": "display_data",
          "data": {
            "image/png": "[encoded data removed]",
            "text/plain": [
              "<Figure size 432x288 with 1 Axes>"
            ]
          },
          "metadata": {
            "tags": [],
            "needs_background": "light"
          }
        }
      ]
    },
    {
      "cell_type": "code",
      "metadata": {
        "id": "zj9fEbwpBFxC"
      },
      "source": [
        ""
      ],
      "execution_count": null,
      "outputs": []
    }
  ]
}