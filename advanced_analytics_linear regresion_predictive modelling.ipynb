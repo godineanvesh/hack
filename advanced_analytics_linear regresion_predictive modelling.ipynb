{
  "nbformat": 4,
  "nbformat_minor": 0,
  "metadata": {
    "colab": {
      "name": "Copy of advanced analytics class 1",
      "provenance": [],
      "authorship_tag": "ABX9TyPgddNgz7c8/qp7mxExH4wl",
      "include_colab_link": true
    },
    "kernelspec": {
      "name": "python3",
      "display_name": "Python 3"
    },
    "language_info": {
      "name": "python"
    }
  },
  "cells": [
    {
      "cell_type": "markdown",
      "metadata": {
        "id": "view-in-github",
        "colab_type": "text"
      },
      "source": [
        "<a href=\"https://colab.research.google.com/github/godineanvesh/hack/blob/master/advanced_analytics_linear%20regresion_predictive%20modelling.ipynb\" target=\"_parent\"><img src=\"https://colab.research.google.com/assets/colab-badge.svg\" alt=\"Open In Colab\"/></a>"
      ]
    },
    {
      "cell_type": "code",
      "metadata": {
        "id": "ovr6UvOYB4OP"
      },
      "source": [
        "import numpy as np\n",
        "import pandas as pd\n",
        "import seaborn as sns\n",
        "import matplotlib.pyplot as plt\n",
        "from sklearn import linear_model\n",
        "import statsmodels.api as sm\n",
        "import statsmodels.formula.api as smf"
      ],
      "execution_count": null,
      "outputs": []
    },
    {
      "cell_type": "code",
      "metadata": {
        "id": "rBEDK9BhCjpi"
      },
      "source": [
        "dataset = pd.read_excel(\"https://github.com/SavioSal/datasets/raw/master/Housing%20Regressions%20Simple.xlsx\")"
      ],
      "execution_count": null,
      "outputs": []
    },
    {
      "cell_type": "code",
      "metadata": {
        "colab": {
          "base_uri": "https://localhost:8080/",
          "height": 203
        },
        "id": "sMVfR4RGC52r",
        "outputId": "acb3c18b-e95c-42e6-97f2-bf9bc31702f9"
      },
      "source": [
        "dataset.head()"
      ],
      "execution_count": null,
      "outputs": [
        {
          "output_type": "execute_result",
          "data": {
            "text/html": [
              "<div>\n",
              "<style scoped>\n",
              "    .dataframe tbody tr th:only-of-type {\n",
              "        vertical-align: middle;\n",
              "    }\n",
              "\n",
              "    .dataframe tbody tr th {\n",
              "        vertical-align: top;\n",
              "    }\n",
              "\n",
              "    .dataframe thead th {\n",
              "        text-align: right;\n",
              "    }\n",
              "</style>\n",
              "<table border=\"1\" class=\"dataframe\">\n",
              "  <thead>\n",
              "    <tr style=\"text-align: right;\">\n",
              "      <th></th>\n",
              "      <th>House</th>\n",
              "      <th>Appraised Value</th>\n",
              "      <th>Selling Price</th>\n",
              "      <th>Square Feet</th>\n",
              "      <th>Bedrooms</th>\n",
              "      <th>Bathrooms</th>\n",
              "    </tr>\n",
              "  </thead>\n",
              "  <tbody>\n",
              "    <tr>\n",
              "      <th>0</th>\n",
              "      <td>1</td>\n",
              "      <td>119370.0</td>\n",
              "      <td>121870.0</td>\n",
              "      <td>2050.0</td>\n",
              "      <td>4</td>\n",
              "      <td>5</td>\n",
              "    </tr>\n",
              "    <tr>\n",
              "      <th>1</th>\n",
              "      <td>2</td>\n",
              "      <td>148930.0</td>\n",
              "      <td>150250.0</td>\n",
              "      <td>2200.0</td>\n",
              "      <td>4</td>\n",
              "      <td>4</td>\n",
              "    </tr>\n",
              "    <tr>\n",
              "      <th>2</th>\n",
              "      <td>3</td>\n",
              "      <td>130390.0</td>\n",
              "      <td>122780.0</td>\n",
              "      <td>1590.0</td>\n",
              "      <td>3</td>\n",
              "      <td>3</td>\n",
              "    </tr>\n",
              "    <tr>\n",
              "      <th>3</th>\n",
              "      <td>4</td>\n",
              "      <td>135700.0</td>\n",
              "      <td>144350.0</td>\n",
              "      <td>1860.0</td>\n",
              "      <td>3</td>\n",
              "      <td>3</td>\n",
              "    </tr>\n",
              "    <tr>\n",
              "      <th>4</th>\n",
              "      <td>5</td>\n",
              "      <td>126300.0</td>\n",
              "      <td>116200.0</td>\n",
              "      <td>1210.0</td>\n",
              "      <td>2</td>\n",
              "      <td>3</td>\n",
              "    </tr>\n",
              "  </tbody>\n",
              "</table>\n",
              "</div>"
            ],
            "text/plain": [
              "   House  Appraised Value  Selling Price  Square Feet  Bedrooms  Bathrooms\n",
              "0      1         119370.0       121870.0       2050.0         4          5\n",
              "1      2         148930.0       150250.0       2200.0         4          4\n",
              "2      3         130390.0       122780.0       1590.0         3          3\n",
              "3      4         135700.0       144350.0       1860.0         3          3\n",
              "4      5         126300.0       116200.0       1210.0         2          3"
            ]
          },
          "metadata": {},
          "execution_count": 26
        }
      ]
    },
    {
      "cell_type": "code",
      "metadata": {
        "colab": {
          "base_uri": "https://localhost:8080/",
          "height": 203
        },
        "id": "T5Sh3sl7DLTE",
        "outputId": "9402dc48-f31f-4751-fa51-e36631dc8db6"
      },
      "source": [
        "dataset.tail()"
      ],
      "execution_count": null,
      "outputs": [
        {
          "output_type": "execute_result",
          "data": {
            "text/html": [
              "<div>\n",
              "<style scoped>\n",
              "    .dataframe tbody tr th:only-of-type {\n",
              "        vertical-align: middle;\n",
              "    }\n",
              "\n",
              "    .dataframe tbody tr th {\n",
              "        vertical-align: top;\n",
              "    }\n",
              "\n",
              "    .dataframe thead th {\n",
              "        text-align: right;\n",
              "    }\n",
              "</style>\n",
              "<table border=\"1\" class=\"dataframe\">\n",
              "  <thead>\n",
              "    <tr style=\"text-align: right;\">\n",
              "      <th></th>\n",
              "      <th>House</th>\n",
              "      <th>Appraised Value</th>\n",
              "      <th>Selling Price</th>\n",
              "      <th>Square Feet</th>\n",
              "      <th>Bedrooms</th>\n",
              "      <th>Bathrooms</th>\n",
              "    </tr>\n",
              "  </thead>\n",
              "  <tbody>\n",
              "    <tr>\n",
              "      <th>143</th>\n",
              "      <td>144</td>\n",
              "      <td>125180.0</td>\n",
              "      <td>124710.0</td>\n",
              "      <td>1660.0</td>\n",
              "      <td>3</td>\n",
              "      <td>4</td>\n",
              "    </tr>\n",
              "    <tr>\n",
              "      <th>144</th>\n",
              "      <td>145</td>\n",
              "      <td>157510.0</td>\n",
              "      <td>148650.0</td>\n",
              "      <td>2110.0</td>\n",
              "      <td>4</td>\n",
              "      <td>5</td>\n",
              "    </tr>\n",
              "    <tr>\n",
              "      <th>145</th>\n",
              "      <td>146</td>\n",
              "      <td>126670.0</td>\n",
              "      <td>128520.0</td>\n",
              "      <td>1430.0</td>\n",
              "      <td>2</td>\n",
              "      <td>2</td>\n",
              "    </tr>\n",
              "    <tr>\n",
              "      <th>146</th>\n",
              "      <td>147</td>\n",
              "      <td>137570.0</td>\n",
              "      <td>132020.0</td>\n",
              "      <td>1710.0</td>\n",
              "      <td>4</td>\n",
              "      <td>5</td>\n",
              "    </tr>\n",
              "    <tr>\n",
              "      <th>147</th>\n",
              "      <td>148</td>\n",
              "      <td>133460.0</td>\n",
              "      <td>128030.0</td>\n",
              "      <td>1580.0</td>\n",
              "      <td>2</td>\n",
              "      <td>1</td>\n",
              "    </tr>\n",
              "  </tbody>\n",
              "</table>\n",
              "</div>"
            ],
            "text/plain": [
              "     House  Appraised Value  Selling Price  Square Feet  Bedrooms  Bathrooms\n",
              "143    144         125180.0       124710.0       1660.0         3          4\n",
              "144    145         157510.0       148650.0       2110.0         4          5\n",
              "145    146         126670.0       128520.0       1430.0         2          2\n",
              "146    147         137570.0       132020.0       1710.0         4          5\n",
              "147    148         133460.0       128030.0       1580.0         2          1"
            ]
          },
          "metadata": {},
          "execution_count": 27
        }
      ]
    },
    {
      "cell_type": "code",
      "metadata": {
        "colab": {
          "base_uri": "https://localhost:8080/",
          "height": 973
        },
        "id": "ODy2EaJrDcu-",
        "outputId": "f0e75d22-1522-4401-96b9-20863530c819"
      },
      "source": [
        "dataset.head(30)"
      ],
      "execution_count": null,
      "outputs": [
        {
          "output_type": "execute_result",
          "data": {
            "text/html": [
              "<div>\n",
              "<style scoped>\n",
              "    .dataframe tbody tr th:only-of-type {\n",
              "        vertical-align: middle;\n",
              "    }\n",
              "\n",
              "    .dataframe tbody tr th {\n",
              "        vertical-align: top;\n",
              "    }\n",
              "\n",
              "    .dataframe thead th {\n",
              "        text-align: right;\n",
              "    }\n",
              "</style>\n",
              "<table border=\"1\" class=\"dataframe\">\n",
              "  <thead>\n",
              "    <tr style=\"text-align: right;\">\n",
              "      <th></th>\n",
              "      <th>House</th>\n",
              "      <th>Appraised Value</th>\n",
              "      <th>Selling Price</th>\n",
              "      <th>Square Feet</th>\n",
              "      <th>Bedrooms</th>\n",
              "      <th>Bathrooms</th>\n",
              "    </tr>\n",
              "  </thead>\n",
              "  <tbody>\n",
              "    <tr>\n",
              "      <th>0</th>\n",
              "      <td>1</td>\n",
              "      <td>119370.0</td>\n",
              "      <td>121870.0</td>\n",
              "      <td>2050.0</td>\n",
              "      <td>4</td>\n",
              "      <td>5</td>\n",
              "    </tr>\n",
              "    <tr>\n",
              "      <th>1</th>\n",
              "      <td>2</td>\n",
              "      <td>148930.0</td>\n",
              "      <td>150250.0</td>\n",
              "      <td>2200.0</td>\n",
              "      <td>4</td>\n",
              "      <td>4</td>\n",
              "    </tr>\n",
              "    <tr>\n",
              "      <th>2</th>\n",
              "      <td>3</td>\n",
              "      <td>130390.0</td>\n",
              "      <td>122780.0</td>\n",
              "      <td>1590.0</td>\n",
              "      <td>3</td>\n",
              "      <td>3</td>\n",
              "    </tr>\n",
              "    <tr>\n",
              "      <th>3</th>\n",
              "      <td>4</td>\n",
              "      <td>135700.0</td>\n",
              "      <td>144350.0</td>\n",
              "      <td>1860.0</td>\n",
              "      <td>3</td>\n",
              "      <td>3</td>\n",
              "    </tr>\n",
              "    <tr>\n",
              "      <th>4</th>\n",
              "      <td>5</td>\n",
              "      <td>126300.0</td>\n",
              "      <td>116200.0</td>\n",
              "      <td>1210.0</td>\n",
              "      <td>2</td>\n",
              "      <td>3</td>\n",
              "    </tr>\n",
              "    <tr>\n",
              "      <th>5</th>\n",
              "      <td>6</td>\n",
              "      <td>137080.0</td>\n",
              "      <td>139490.0</td>\n",
              "      <td>1710.0</td>\n",
              "      <td>3</td>\n",
              "      <td>2</td>\n",
              "    </tr>\n",
              "    <tr>\n",
              "      <th>6</th>\n",
              "      <td>7</td>\n",
              "      <td>123490.0</td>\n",
              "      <td>115730.0</td>\n",
              "      <td>1670.0</td>\n",
              "      <td>3</td>\n",
              "      <td>3</td>\n",
              "    </tr>\n",
              "    <tr>\n",
              "      <th>7</th>\n",
              "      <td>8</td>\n",
              "      <td>150830.0</td>\n",
              "      <td>140590.0</td>\n",
              "      <td>1780.0</td>\n",
              "      <td>3</td>\n",
              "      <td>4</td>\n",
              "    </tr>\n",
              "    <tr>\n",
              "      <th>8</th>\n",
              "      <td>9</td>\n",
              "      <td>123480.0</td>\n",
              "      <td>120290.0</td>\n",
              "      <td>1520.0</td>\n",
              "      <td>4</td>\n",
              "      <td>4</td>\n",
              "    </tr>\n",
              "    <tr>\n",
              "      <th>9</th>\n",
              "      <td>10</td>\n",
              "      <td>132050.0</td>\n",
              "      <td>147250.0</td>\n",
              "      <td>1830.0</td>\n",
              "      <td>2</td>\n",
              "      <td>3</td>\n",
              "    </tr>\n",
              "    <tr>\n",
              "      <th>10</th>\n",
              "      <td>11</td>\n",
              "      <td>148210.0</td>\n",
              "      <td>152260.0</td>\n",
              "      <td>1700.0</td>\n",
              "      <td>3</td>\n",
              "      <td>3</td>\n",
              "    </tr>\n",
              "    <tr>\n",
              "      <th>11</th>\n",
              "      <td>12</td>\n",
              "      <td>139530.0</td>\n",
              "      <td>144800.0</td>\n",
              "      <td>1720.0</td>\n",
              "      <td>3</td>\n",
              "      <td>4</td>\n",
              "    </tr>\n",
              "    <tr>\n",
              "      <th>12</th>\n",
              "      <td>13</td>\n",
              "      <td>114340.0</td>\n",
              "      <td>107060.0</td>\n",
              "      <td>1670.0</td>\n",
              "      <td>3</td>\n",
              "      <td>4</td>\n",
              "    </tr>\n",
              "    <tr>\n",
              "      <th>13</th>\n",
              "      <td>14</td>\n",
              "      <td>140040.0</td>\n",
              "      <td>147470.0</td>\n",
              "      <td>1650.0</td>\n",
              "      <td>3</td>\n",
              "      <td>3</td>\n",
              "    </tr>\n",
              "    <tr>\n",
              "      <th>14</th>\n",
              "      <td>15</td>\n",
              "      <td>136010.0</td>\n",
              "      <td>135120.0</td>\n",
              "      <td>1610.0</td>\n",
              "      <td>2</td>\n",
              "      <td>1</td>\n",
              "    </tr>\n",
              "    <tr>\n",
              "      <th>15</th>\n",
              "      <td>16</td>\n",
              "      <td>140930.0</td>\n",
              "      <td>140240.0</td>\n",
              "      <td>1570.0</td>\n",
              "      <td>3</td>\n",
              "      <td>4</td>\n",
              "    </tr>\n",
              "    <tr>\n",
              "      <th>16</th>\n",
              "      <td>17</td>\n",
              "      <td>132420.0</td>\n",
              "      <td>129890.0</td>\n",
              "      <td>1650.0</td>\n",
              "      <td>4</td>\n",
              "      <td>5</td>\n",
              "    </tr>\n",
              "    <tr>\n",
              "      <th>17</th>\n",
              "      <td>18</td>\n",
              "      <td>118300.0</td>\n",
              "      <td>121140.0</td>\n",
              "      <td>1640.0</td>\n",
              "      <td>3</td>\n",
              "      <td>4</td>\n",
              "    </tr>\n",
              "    <tr>\n",
              "      <th>18</th>\n",
              "      <td>19</td>\n",
              "      <td>122140.0</td>\n",
              "      <td>111230.0</td>\n",
              "      <td>1420.0</td>\n",
              "      <td>2</td>\n",
              "      <td>3</td>\n",
              "    </tr>\n",
              "    <tr>\n",
              "      <th>19</th>\n",
              "      <td>20</td>\n",
              "      <td>149820.0</td>\n",
              "      <td>145140.0</td>\n",
              "      <td>2070.0</td>\n",
              "      <td>4</td>\n",
              "      <td>3</td>\n",
              "    </tr>\n",
              "    <tr>\n",
              "      <th>20</th>\n",
              "      <td>21</td>\n",
              "      <td>128910.0</td>\n",
              "      <td>139010.0</td>\n",
              "      <td>1610.0</td>\n",
              "      <td>2</td>\n",
              "      <td>3</td>\n",
              "    </tr>\n",
              "    <tr>\n",
              "      <th>21</th>\n",
              "      <td>22</td>\n",
              "      <td>134610.0</td>\n",
              "      <td>129340.0</td>\n",
              "      <td>1910.0</td>\n",
              "      <td>4</td>\n",
              "      <td>4</td>\n",
              "    </tr>\n",
              "    <tr>\n",
              "      <th>22</th>\n",
              "      <td>23</td>\n",
              "      <td>121990.0</td>\n",
              "      <td>113610.0</td>\n",
              "      <td>1410.0</td>\n",
              "      <td>2</td>\n",
              "      <td>2</td>\n",
              "    </tr>\n",
              "    <tr>\n",
              "      <th>23</th>\n",
              "      <td>24</td>\n",
              "      <td>150500.0</td>\n",
              "      <td>141050.0</td>\n",
              "      <td>1860.0</td>\n",
              "      <td>4</td>\n",
              "      <td>3</td>\n",
              "    </tr>\n",
              "    <tr>\n",
              "      <th>24</th>\n",
              "      <td>25</td>\n",
              "      <td>142870.0</td>\n",
              "      <td>152900.0</td>\n",
              "      <td>1990.0</td>\n",
              "      <td>4</td>\n",
              "      <td>3</td>\n",
              "    </tr>\n",
              "    <tr>\n",
              "      <th>25</th>\n",
              "      <td>26</td>\n",
              "      <td>155550.0</td>\n",
              "      <td>157790.0</td>\n",
              "      <td>2270.0</td>\n",
              "      <td>5</td>\n",
              "      <td>4</td>\n",
              "    </tr>\n",
              "    <tr>\n",
              "      <th>26</th>\n",
              "      <td>27</td>\n",
              "      <td>128500.0</td>\n",
              "      <td>135570.0</td>\n",
              "      <td>1965.0</td>\n",
              "      <td>4</td>\n",
              "      <td>4</td>\n",
              "    </tr>\n",
              "    <tr>\n",
              "      <th>27</th>\n",
              "      <td>28</td>\n",
              "      <td>143360.0</td>\n",
              "      <td>151990.0</td>\n",
              "      <td>1820.0</td>\n",
              "      <td>3</td>\n",
              "      <td>3</td>\n",
              "    </tr>\n",
              "    <tr>\n",
              "      <th>28</th>\n",
              "      <td>29</td>\n",
              "      <td>119650.0</td>\n",
              "      <td>120530.0</td>\n",
              "      <td>1650.0</td>\n",
              "      <td>3</td>\n",
              "      <td>3</td>\n",
              "    </tr>\n",
              "    <tr>\n",
              "      <th>29</th>\n",
              "      <td>30</td>\n",
              "      <td>122570.0</td>\n",
              "      <td>118640.0</td>\n",
              "      <td>1470.0</td>\n",
              "      <td>2</td>\n",
              "      <td>2</td>\n",
              "    </tr>\n",
              "  </tbody>\n",
              "</table>\n",
              "</div>"
            ],
            "text/plain": [
              "    House  Appraised Value  Selling Price  Square Feet  Bedrooms  Bathrooms\n",
              "0       1         119370.0       121870.0       2050.0         4          5\n",
              "1       2         148930.0       150250.0       2200.0         4          4\n",
              "2       3         130390.0       122780.0       1590.0         3          3\n",
              "3       4         135700.0       144350.0       1860.0         3          3\n",
              "4       5         126300.0       116200.0       1210.0         2          3\n",
              "5       6         137080.0       139490.0       1710.0         3          2\n",
              "6       7         123490.0       115730.0       1670.0         3          3\n",
              "7       8         150830.0       140590.0       1780.0         3          4\n",
              "8       9         123480.0       120290.0       1520.0         4          4\n",
              "9      10         132050.0       147250.0       1830.0         2          3\n",
              "10     11         148210.0       152260.0       1700.0         3          3\n",
              "11     12         139530.0       144800.0       1720.0         3          4\n",
              "12     13         114340.0       107060.0       1670.0         3          4\n",
              "13     14         140040.0       147470.0       1650.0         3          3\n",
              "14     15         136010.0       135120.0       1610.0         2          1\n",
              "15     16         140930.0       140240.0       1570.0         3          4\n",
              "16     17         132420.0       129890.0       1650.0         4          5\n",
              "17     18         118300.0       121140.0       1640.0         3          4\n",
              "18     19         122140.0       111230.0       1420.0         2          3\n",
              "19     20         149820.0       145140.0       2070.0         4          3\n",
              "20     21         128910.0       139010.0       1610.0         2          3\n",
              "21     22         134610.0       129340.0       1910.0         4          4\n",
              "22     23         121990.0       113610.0       1410.0         2          2\n",
              "23     24         150500.0       141050.0       1860.0         4          3\n",
              "24     25         142870.0       152900.0       1990.0         4          3\n",
              "25     26         155550.0       157790.0       2270.0         5          4\n",
              "26     27         128500.0       135570.0       1965.0         4          4\n",
              "27     28         143360.0       151990.0       1820.0         3          3\n",
              "28     29         119650.0       120530.0       1650.0         3          3\n",
              "29     30         122570.0       118640.0       1470.0         2          2"
            ]
          },
          "metadata": {},
          "execution_count": 28
        }
      ]
    },
    {
      "cell_type": "code",
      "metadata": {
        "id": "ZRhgz1Y-Hqsi"
      },
      "source": [
        "dataset.columns = ['house','appraisedvalue','sellingprice','squarefeet','bathroom','bedroom']"
      ],
      "execution_count": null,
      "outputs": []
    },
    {
      "cell_type": "code",
      "metadata": {
        "colab": {
          "base_uri": "https://localhost:8080/"
        },
        "id": "0TJEexYoDf6-",
        "outputId": "2d08531e-bfed-4ec1-c712-37a646e63be5"
      },
      "source": [
        "dataset.dtypes"
      ],
      "execution_count": null,
      "outputs": [
        {
          "output_type": "execute_result",
          "data": {
            "text/plain": [
              "House                int64\n",
              "Appraised Value    float64\n",
              "Selling Price      float64\n",
              "Square Feet        float64\n",
              "Bedrooms             int64\n",
              "Bathrooms            int64\n",
              "dtype: object"
            ]
          },
          "metadata": {},
          "execution_count": 29
        }
      ]
    },
    {
      "cell_type": "code",
      "metadata": {
        "colab": {
          "base_uri": "https://localhost:8080/"
        },
        "id": "FyuxyJZBGW7U",
        "outputId": "5bf69587-27ef-4d4d-f365-a44ac3f40d48"
      },
      "source": [
        "mod = smf.ols(formula = 'sellingprice~appraisedvalue + squarefeet', data=dataset)\n",
        "res = mod.fit()\n",
        "print(res.summary())"
      ],
      "execution_count": null,
      "outputs": [
        {
          "output_type": "stream",
          "name": "stdout",
          "text": [
            "                            OLS Regression Results                            \n",
            "==============================================================================\n",
            "Dep. Variable:           sellingprice   R-squared:                       0.758\n",
            "Model:                            OLS   Adj. R-squared:                  0.755\n",
            "Method:                 Least Squares   F-statistic:                     226.9\n",
            "Date:                Mon, 22 Nov 2021   Prob (F-statistic):           2.22e-45\n",
            "Time:                        14:50:55   Log-Likelihood:                -1521.4\n",
            "No. Observations:                 148   AIC:                             3049.\n",
            "Df Residuals:                     145   BIC:                             3058.\n",
            "Df Model:                           2                                         \n",
            "Covariance Type:            nonrobust                                         \n",
            "==================================================================================\n",
            "                     coef    std err          t      P>|t|      [0.025      0.975]\n",
            "----------------------------------------------------------------------------------\n",
            "Intercept       5839.8594   6127.679      0.953      0.342   -6271.250     1.8e+04\n",
            "appraisedvalue     0.6777      0.063     10.836      0.000       0.554       0.801\n",
            "squarefeet        21.4358      3.482      6.156      0.000      14.553      28.318\n",
            "==============================================================================\n",
            "Omnibus:                       96.934   Durbin-Watson:                   2.020\n",
            "Prob(Omnibus):                  0.000   Jarque-Bera (JB):             1183.259\n",
            "Skew:                          -2.055   Prob(JB):                    1.14e-257\n",
            "Kurtosis:                      16.228   Cond. No.                     1.39e+06\n",
            "==============================================================================\n",
            "\n",
            "Warnings:\n",
            "[1] Standard Errors assume that the covariance matrix of the errors is correctly specified.\n",
            "[2] The condition number is large, 1.39e+06. This might indicate that there are\n",
            "strong multicollinearity or other numerical problems.\n"
          ]
        }
      ]
    },
    {
      "cell_type": "code",
      "metadata": {
        "id": "y5CoGIPmFMnd"
      },
      "source": [
        "y = data[['Selling Price']]"
      ],
      "execution_count": null,
      "outputs": []
    },
    {
      "cell_type": "code",
      "metadata": {
        "id": "8XJmDlXAFVN-"
      },
      "source": [
        "x= data[['Bedrooms','Bathrooms','Square Feet','Appraised Value']]"
      ],
      "execution_count": null,
      "outputs": []
    },
    {
      "cell_type": "code",
      "metadata": {
        "colab": {
          "base_uri": "https://localhost:8080/",
          "height": 203
        },
        "id": "5hrZmPfwHJaX",
        "outputId": "05d512ae-283c-4ab5-bd87-bda2140c9d01"
      },
      "source": [
        "y.head()"
      ],
      "execution_count": null,
      "outputs": [
        {
          "output_type": "execute_result",
          "data": {
            "text/html": [
              "<div>\n",
              "<style scoped>\n",
              "    .dataframe tbody tr th:only-of-type {\n",
              "        vertical-align: middle;\n",
              "    }\n",
              "\n",
              "    .dataframe tbody tr th {\n",
              "        vertical-align: top;\n",
              "    }\n",
              "\n",
              "    .dataframe thead th {\n",
              "        text-align: right;\n",
              "    }\n",
              "</style>\n",
              "<table border=\"1\" class=\"dataframe\">\n",
              "  <thead>\n",
              "    <tr style=\"text-align: right;\">\n",
              "      <th></th>\n",
              "      <th>Selling Price</th>\n",
              "    </tr>\n",
              "  </thead>\n",
              "  <tbody>\n",
              "    <tr>\n",
              "      <th>0</th>\n",
              "      <td>121870.0</td>\n",
              "    </tr>\n",
              "    <tr>\n",
              "      <th>1</th>\n",
              "      <td>150250.0</td>\n",
              "    </tr>\n",
              "    <tr>\n",
              "      <th>2</th>\n",
              "      <td>122780.0</td>\n",
              "    </tr>\n",
              "    <tr>\n",
              "      <th>3</th>\n",
              "      <td>144350.0</td>\n",
              "    </tr>\n",
              "    <tr>\n",
              "      <th>4</th>\n",
              "      <td>116200.0</td>\n",
              "    </tr>\n",
              "  </tbody>\n",
              "</table>\n",
              "</div>"
            ],
            "text/plain": [
              "   Selling Price\n",
              "0       121870.0\n",
              "1       150250.0\n",
              "2       122780.0\n",
              "3       144350.0\n",
              "4       116200.0"
            ]
          },
          "metadata": {},
          "execution_count": 32
        }
      ]
    },
    {
      "cell_type": "code",
      "metadata": {
        "colab": {
          "base_uri": "https://localhost:8080/",
          "height": 203
        },
        "id": "frhs2C8WHMF9",
        "outputId": "1aa6b4da-4aee-4312-b6ac-63a8957ef348"
      },
      "source": [
        "x.head()"
      ],
      "execution_count": null,
      "outputs": [
        {
          "output_type": "execute_result",
          "data": {
            "text/html": [
              "<div>\n",
              "<style scoped>\n",
              "    .dataframe tbody tr th:only-of-type {\n",
              "        vertical-align: middle;\n",
              "    }\n",
              "\n",
              "    .dataframe tbody tr th {\n",
              "        vertical-align: top;\n",
              "    }\n",
              "\n",
              "    .dataframe thead th {\n",
              "        text-align: right;\n",
              "    }\n",
              "</style>\n",
              "<table border=\"1\" class=\"dataframe\">\n",
              "  <thead>\n",
              "    <tr style=\"text-align: right;\">\n",
              "      <th></th>\n",
              "      <th>Bedrooms</th>\n",
              "      <th>Bathrooms</th>\n",
              "      <th>Square Feet</th>\n",
              "      <th>Appraised Value</th>\n",
              "    </tr>\n",
              "  </thead>\n",
              "  <tbody>\n",
              "    <tr>\n",
              "      <th>0</th>\n",
              "      <td>4</td>\n",
              "      <td>5</td>\n",
              "      <td>2050.0</td>\n",
              "      <td>119370.0</td>\n",
              "    </tr>\n",
              "    <tr>\n",
              "      <th>1</th>\n",
              "      <td>4</td>\n",
              "      <td>4</td>\n",
              "      <td>2200.0</td>\n",
              "      <td>148930.0</td>\n",
              "    </tr>\n",
              "    <tr>\n",
              "      <th>2</th>\n",
              "      <td>3</td>\n",
              "      <td>3</td>\n",
              "      <td>1590.0</td>\n",
              "      <td>130390.0</td>\n",
              "    </tr>\n",
              "    <tr>\n",
              "      <th>3</th>\n",
              "      <td>3</td>\n",
              "      <td>3</td>\n",
              "      <td>1860.0</td>\n",
              "      <td>135700.0</td>\n",
              "    </tr>\n",
              "    <tr>\n",
              "      <th>4</th>\n",
              "      <td>2</td>\n",
              "      <td>3</td>\n",
              "      <td>1210.0</td>\n",
              "      <td>126300.0</td>\n",
              "    </tr>\n",
              "  </tbody>\n",
              "</table>\n",
              "</div>"
            ],
            "text/plain": [
              "   Bedrooms  Bathrooms  Square Feet  Appraised Value\n",
              "0         4          5       2050.0         119370.0\n",
              "1         4          4       2200.0         148930.0\n",
              "2         3          3       1590.0         130390.0\n",
              "3         3          3       1860.0         135700.0\n",
              "4         2          3       1210.0         126300.0"
            ]
          },
          "metadata": {},
          "execution_count": 33
        }
      ]
    },
    {
      "cell_type": "code",
      "metadata": {
        "colab": {
          "base_uri": "https://localhost:8080/",
          "height": 417
        },
        "id": "7HrquNPqIZ0R",
        "outputId": "92208e69-cf5e-4eaa-d1b3-b9fba715ffb1"
      },
      "source": [
        "dataset.drop(columns =['house', 'sellingprice'])"
      ],
      "execution_count": null,
      "outputs": [
        {
          "output_type": "execute_result",
          "data": {
            "text/html": [
              "<div>\n",
              "<style scoped>\n",
              "    .dataframe tbody tr th:only-of-type {\n",
              "        vertical-align: middle;\n",
              "    }\n",
              "\n",
              "    .dataframe tbody tr th {\n",
              "        vertical-align: top;\n",
              "    }\n",
              "\n",
              "    .dataframe thead th {\n",
              "        text-align: right;\n",
              "    }\n",
              "</style>\n",
              "<table border=\"1\" class=\"dataframe\">\n",
              "  <thead>\n",
              "    <tr style=\"text-align: right;\">\n",
              "      <th></th>\n",
              "      <th>appraisedvalue</th>\n",
              "      <th>squarefeet</th>\n",
              "      <th>bathroom</th>\n",
              "      <th>bedroom</th>\n",
              "    </tr>\n",
              "  </thead>\n",
              "  <tbody>\n",
              "    <tr>\n",
              "      <th>0</th>\n",
              "      <td>119370.0</td>\n",
              "      <td>2050.0</td>\n",
              "      <td>4</td>\n",
              "      <td>5</td>\n",
              "    </tr>\n",
              "    <tr>\n",
              "      <th>1</th>\n",
              "      <td>148930.0</td>\n",
              "      <td>2200.0</td>\n",
              "      <td>4</td>\n",
              "      <td>4</td>\n",
              "    </tr>\n",
              "    <tr>\n",
              "      <th>2</th>\n",
              "      <td>130390.0</td>\n",
              "      <td>1590.0</td>\n",
              "      <td>3</td>\n",
              "      <td>3</td>\n",
              "    </tr>\n",
              "    <tr>\n",
              "      <th>3</th>\n",
              "      <td>135700.0</td>\n",
              "      <td>1860.0</td>\n",
              "      <td>3</td>\n",
              "      <td>3</td>\n",
              "    </tr>\n",
              "    <tr>\n",
              "      <th>4</th>\n",
              "      <td>126300.0</td>\n",
              "      <td>1210.0</td>\n",
              "      <td>2</td>\n",
              "      <td>3</td>\n",
              "    </tr>\n",
              "    <tr>\n",
              "      <th>...</th>\n",
              "      <td>...</td>\n",
              "      <td>...</td>\n",
              "      <td>...</td>\n",
              "      <td>...</td>\n",
              "    </tr>\n",
              "    <tr>\n",
              "      <th>143</th>\n",
              "      <td>125180.0</td>\n",
              "      <td>1660.0</td>\n",
              "      <td>3</td>\n",
              "      <td>4</td>\n",
              "    </tr>\n",
              "    <tr>\n",
              "      <th>144</th>\n",
              "      <td>157510.0</td>\n",
              "      <td>2110.0</td>\n",
              "      <td>4</td>\n",
              "      <td>5</td>\n",
              "    </tr>\n",
              "    <tr>\n",
              "      <th>145</th>\n",
              "      <td>126670.0</td>\n",
              "      <td>1430.0</td>\n",
              "      <td>2</td>\n",
              "      <td>2</td>\n",
              "    </tr>\n",
              "    <tr>\n",
              "      <th>146</th>\n",
              "      <td>137570.0</td>\n",
              "      <td>1710.0</td>\n",
              "      <td>4</td>\n",
              "      <td>5</td>\n",
              "    </tr>\n",
              "    <tr>\n",
              "      <th>147</th>\n",
              "      <td>133460.0</td>\n",
              "      <td>1580.0</td>\n",
              "      <td>2</td>\n",
              "      <td>1</td>\n",
              "    </tr>\n",
              "  </tbody>\n",
              "</table>\n",
              "<p>148 rows × 4 columns</p>\n",
              "</div>"
            ],
            "text/plain": [
              "     appraisedvalue  squarefeet  bathroom  bedroom\n",
              "0          119370.0      2050.0         4        5\n",
              "1          148930.0      2200.0         4        4\n",
              "2          130390.0      1590.0         3        3\n",
              "3          135700.0      1860.0         3        3\n",
              "4          126300.0      1210.0         2        3\n",
              "..              ...         ...       ...      ...\n",
              "143        125180.0      1660.0         3        4\n",
              "144        157510.0      2110.0         4        5\n",
              "145        126670.0      1430.0         2        2\n",
              "146        137570.0      1710.0         4        5\n",
              "147        133460.0      1580.0         2        1\n",
              "\n",
              "[148 rows x 4 columns]"
            ]
          },
          "metadata": {},
          "execution_count": 40
        }
      ]
    },
    {
      "cell_type": "code",
      "metadata": {
        "colab": {
          "base_uri": "https://localhost:8080/",
          "height": 386
        },
        "id": "ySkbLuB8Iz2R",
        "outputId": "c56142fd-c298-4ca2-ab75-c5a127df4acd"
      },
      "source": [
        "sns.lmplot(x='sellingprice', y='appraisedvalue', data=dataset)"
      ],
      "execution_count": null,
      "outputs": [
        {
          "output_type": "execute_result",
          "data": {
            "text/plain": [
              "<seaborn.axisgrid.FacetGrid at 0x7f3f0035f510>"
            ]
          },
          "metadata": {},
          "execution_count": 43
        },
        {
          "output_type": "display_data",
          "data": {
            "image/png": "[encoded data removed]",
            "text/plain": [
              "<Figure size 360x360 with 1 Axes>"
            ]
          },
          "metadata": {
            "needs_background": "light"
          }
        }
      ]
    },
    {
      "cell_type": "code",
      "metadata": {
        "id": "RKLbXDJVJcqe"
      },
      "source": [
        "from sklearn.model_selection import train_test_split"
      ],
      "execution_count": null,
      "outputs": []
    },
    {
      "cell_type": "code",
      "metadata": {
        "id": "7WkuqKwaNRQT"
      },
      "source": [
        "x_train, x_test, y_train, y_test = train_test_split(x, y, test_size = 0.3, random_state= 42)"
      ],
      "execution_count": null,
      "outputs": []
    },
    {
      "cell_type": "code",
      "metadata": {
        "colab": {
          "base_uri": "https://localhost:8080/",
          "height": 203
        },
        "id": "L_GkS_fLOC8p",
        "outputId": "b9913637-217e-4cb5-e96d-5b322c087440"
      },
      "source": [
        "x_train.head()"
      ],
      "execution_count": null,
      "outputs": [
        {
          "output_type": "execute_result",
          "data": {
            "text/html": [
              "<div>\n",
              "<style scoped>\n",
              "    .dataframe tbody tr th:only-of-type {\n",
              "        vertical-align: middle;\n",
              "    }\n",
              "\n",
              "    .dataframe tbody tr th {\n",
              "        vertical-align: top;\n",
              "    }\n",
              "\n",
              "    .dataframe thead th {\n",
              "        text-align: right;\n",
              "    }\n",
              "</style>\n",
              "<table border=\"1\" class=\"dataframe\">\n",
              "  <thead>\n",
              "    <tr style=\"text-align: right;\">\n",
              "      <th></th>\n",
              "      <th>Bedrooms</th>\n",
              "      <th>Bathrooms</th>\n",
              "      <th>Square Feet</th>\n",
              "      <th>Appraised Value</th>\n",
              "    </tr>\n",
              "  </thead>\n",
              "  <tbody>\n",
              "    <tr>\n",
              "      <th>93</th>\n",
              "      <td>2</td>\n",
              "      <td>3</td>\n",
              "      <td>1540.0</td>\n",
              "      <td>105060.0</td>\n",
              "    </tr>\n",
              "    <tr>\n",
              "      <th>141</th>\n",
              "      <td>5</td>\n",
              "      <td>6</td>\n",
              "      <td>2510.0</td>\n",
              "      <td>167730.0</td>\n",
              "    </tr>\n",
              "    <tr>\n",
              "      <th>108</th>\n",
              "      <td>2</td>\n",
              "      <td>2</td>\n",
              "      <td>1410.0</td>\n",
              "      <td>121590.0</td>\n",
              "    </tr>\n",
              "    <tr>\n",
              "      <th>0</th>\n",
              "      <td>4</td>\n",
              "      <td>5</td>\n",
              "      <td>2050.0</td>\n",
              "      <td>119370.0</td>\n",
              "    </tr>\n",
              "    <tr>\n",
              "      <th>73</th>\n",
              "      <td>2</td>\n",
              "      <td>2</td>\n",
              "      <td>1610.0</td>\n",
              "      <td>129910.0</td>\n",
              "    </tr>\n",
              "  </tbody>\n",
              "</table>\n",
              "</div>"
            ],
            "text/plain": [
              "     Bedrooms  Bathrooms  Square Feet  Appraised Value\n",
              "93          2          3       1540.0         105060.0\n",
              "141         5          6       2510.0         167730.0\n",
              "108         2          2       1410.0         121590.0\n",
              "0           4          5       2050.0         119370.0\n",
              "73          2          2       1610.0         129910.0"
            ]
          },
          "metadata": {},
          "execution_count": 69
        }
      ]
    },
    {
      "cell_type": "code",
      "metadata": {
        "colab": {
          "base_uri": "https://localhost:8080/"
        },
        "id": "FmUgeNcdOHeu",
        "outputId": "8fbe53aa-1813-408e-a71f-d07311b3433d"
      },
      "source": [
        "len(x_train)"
      ],
      "execution_count": null,
      "outputs": [
        {
          "output_type": "execute_result",
          "data": {
            "text/plain": [
              "103"
            ]
          },
          "metadata": {},
          "execution_count": 70
        }
      ]
    },
    {
      "cell_type": "code",
      "metadata": {
        "colab": {
          "base_uri": "https://localhost:8080/"
        },
        "id": "xLkRaCiCONh7",
        "outputId": "a3f88c1c-b080-4b44-a66b-a6e65a768ff9"
      },
      "source": [
        "len(y_train)"
      ],
      "execution_count": null,
      "outputs": [
        {
          "output_type": "execute_result",
          "data": {
            "text/plain": [
              "103"
            ]
          },
          "metadata": {},
          "execution_count": 71
        }
      ]
    },
    {
      "cell_type": "code",
      "metadata": {
        "colab": {
          "base_uri": "https://localhost:8080/"
        },
        "id": "ISMXpQybPWsS",
        "outputId": "8b81dea7-5076-48c7-84a9-c5f8c71e8ead"
      },
      "source": [
        "reg = linear_model.LinearRegression().fit(x_train,y_train)\n",
        "reg.score(x_train,y_train)"
      ],
      "execution_count": null,
      "outputs": [
        {
          "output_type": "execute_result",
          "data": {
            "text/plain": [
              "0.8402325526222891"
            ]
          },
          "metadata": {},
          "execution_count": 72
        }
      ]
    },
    {
      "cell_type": "code",
      "metadata": {
        "colab": {
          "base_uri": "https://localhost:8080/"
        },
        "id": "4-pdGdVQRCWE",
        "outputId": "80bb33e9-9d4e-426e-d256-512886ce9bcf"
      },
      "source": [
        "reg.coef_"
      ],
      "execution_count": null,
      "outputs": [
        {
          "output_type": "execute_result",
          "data": {
            "text/plain": [
              "array([[-1.34098206e+03,  3.45862043e+02,  2.28459563e+01,\n",
              "         6.91105589e-01]])"
            ]
          },
          "metadata": {},
          "execution_count": 73
        }
      ]
    },
    {
      "cell_type": "code",
      "metadata": {
        "colab": {
          "base_uri": "https://localhost:8080/"
        },
        "id": "MtS4-XIzSAF7",
        "outputId": "5fdf4629-3f9d-4d1c-c894-314132f6e608"
      },
      "source": [
        "reg.intercept_"
      ],
      "execution_count": null,
      "outputs": [
        {
          "output_type": "execute_result",
          "data": {
            "text/plain": [
              "array([4817.3526132])"
            ]
          },
          "metadata": {},
          "execution_count": 75
        }
      ]
    },
    {
      "cell_type": "code",
      "metadata": {
        "colab": {
          "base_uri": "https://localhost:8080/"
        },
        "id": "0by3IVxUUQil",
        "outputId": "887ecb93-8a5c-40c5-f139-13d30b3683ef"
      },
      "source": [
        "reg.predict([[5, 5, 100000, 2000]])"
      ],
      "execution_count": null,
      "outputs": [
        {
          "output_type": "stream",
          "name": "stderr",
          "text": [
            "/usr/local/lib/python3.7/dist-packages/sklearn/base.py:446: UserWarning: X does not have valid feature names, but LinearRegression was fitted with feature names\n",
            "  \"X does not have valid feature names, but\"\n"
          ]
        },
        {
          "output_type": "execute_result",
          "data": {
            "text/plain": [
              "array([[2285819.59409822]])"
            ]
          },
          "metadata": {},
          "execution_count": 79
        }
      ]
    }
  ]
}